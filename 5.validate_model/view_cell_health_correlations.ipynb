{
 "cells": [
  {
   "cell_type": "code",
   "execution_count": 9,
   "metadata": {},
   "outputs": [],
   "source": [
    "import pathlib\n",
    "\n",
    "import pandas as pd\n",
    "import seaborn as sns\n",
    "import matplotlib.pyplot as plt\n"
   ]
  },
  {
   "cell_type": "code",
   "execution_count": 10,
   "metadata": {},
   "outputs": [],
   "source": [
    "tidy_long_corrs_save_dir = pathlib.Path(\"validations\")\n",
    "MCM_corrs_path = pathlib.Path(\n",
    "    f\"{tidy_long_corrs_save_dir}/compiled_correlations__MCM.tsv\"\n",
    ")"
   ]
  },
  {
   "cell_type": "code",
   "execution_count": 11,
   "metadata": {},
   "outputs": [],
   "source": [
    "MCM_corr_data = pd.read_csv(MCM_corrs_path, sep=\"\\t\", index_col=0)\n",
    "MCM_corr_data = MCM_corr_data.reset_index(drop=True)\n",
    "MCM_corr_data.to_csv(MCM_corrs_path, sep=\"\\t\")\n",
    "\n",
    "# # pivot the data to create a matrix where index is phenotypic_class, columns are cell_health_indicator, and values are corr_value\n",
    "# pivot_data = MCM_corr_data.pivot(\"phenotypic_class\", \"cell_health_indicator\", \"corr_value\")"
   ]
  }
 ],
 "metadata": {
  "kernelspec": {
   "display_name": "Python 3.9.16 ('phenotypic_profiling')",
   "language": "python",
   "name": "python3"
  },
  "language_info": {
   "codemirror_mode": {
    "name": "ipython",
    "version": 3
   },
   "file_extension": ".py",
   "mimetype": "text/x-python",
   "name": "python",
   "nbconvert_exporter": "python",
   "pygments_lexer": "ipython3",
   "version": "3.9.16"
  },
  "orig_nbformat": 4,
  "vscode": {
   "interpreter": {
    "hash": "f9df586d1764dbc68785000a153dad1832127ac564b5e2e4c94e83fc43160b30"
   }
  }
 },
 "nbformat": 4,
 "nbformat_minor": 2
}
