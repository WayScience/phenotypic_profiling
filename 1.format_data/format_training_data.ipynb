{
 "cells": [
  {
   "cell_type": "markdown",
   "metadata": {},
   "source": [
    "# Format Training Data\n",
    "\n",
    "### Access training data from specific commit of [mitocheck_data](https://github.com/WayScience/mitocheck_data) and format this data into a single CSV file\n",
    "\n",
    "### Import libraries"
   ]
  },
  {
   "cell_type": "code",
   "execution_count": null,
   "metadata": {},
   "outputs": [],
   "source": [
    "import pandas as pd\n",
    "import urllib\n",
    "import pathlib"
   ]
  },
  {
   "cell_type": "markdown",
   "metadata": {},
   "source": [
    "### Define functions for formatting training data"
   ]
  },
  {
   "cell_type": "code",
   "execution_count": null,
   "metadata": {},
   "outputs": [],
   "source": [
    "def get_single_cell_metadata(single_cell_data: pd.DataFrame):\n",
    "    \"\"\"get plate, well, frame information from single cell data\n",
    "\n",
    "    Args:\n",
    "        single_cell_data (pd.Dataframe): dataframe with single cell data\n",
    "\n",
    "    Returns:\n",
    "        str, str, str: plate, well, frame metadata as strings\n",
    "    \"\"\"\n",
    "    #Metadata_DNA is in format plate/well/frame/filename.tif so get plate, well, frame info from this\n",
    "    single_cell_info = single_cell_data[\"Metadata_DNA\"].split(\"/\")\n",
    "    plate = single_cell_info[0]\n",
    "    well = single_cell_info[1]\n",
    "    frame = single_cell_info[2]\n",
    "    return plate, well, frame\n",
    "\n",
    "def get_cell_class(single_cell_data: pd.DataFrame, trainingset_file_url: str, plate: str, well: str, frame: str) -> str:\n",
    "    \"\"\"get phenotypic class of cell from trainingset.dat file, as labeled by MitoCheck\n",
    "\n",
    "    Args:\n",
    "        single_cell_data (pd.DataFrame): dataframe with single cell data\n",
    "        trainingset_file_url (str): url location of raw traininset.dat file\n",
    "        plate (str): plate cell is from\n",
    "        well (str): well cell is from\n",
    "        frame (str): frame cell is from\n",
    "\n",
    "    Returns:\n",
    "        str: phenotypic class of nucleus, as labeled by MitoCheck\n",
    "    \"\"\"\n",
    "    well_string = f\"W{str(well).zfill(5)}\"\n",
    "    frame_time = (int(frame)-1)*30\n",
    "    frame_time_string = f\"T{str(frame_time).zfill(5)}\"\n",
    "    frame_file_details = [plate, well_string, frame_time_string]\n",
    "    obj_id = int(single_cell_data[\"Mitocheck_Object_ID\"].item())\n",
    "    obj_id_prefix = f\"{obj_id}: \"\n",
    "\n",
    "    append = False\n",
    "    # need to open trainingset file each time\n",
    "    trainingset_file = urllib.request.urlopen(trainingset_file_url)\n",
    "    for line in trainingset_file:\n",
    "        decoded_line = line.decode(\"utf-8\").strip()\n",
    "        #match plate, well, frame to starting line for movie labels\n",
    "        if all(detail in decoded_line for detail in frame_file_details):\n",
    "            append = True\n",
    "        if append and decoded_line.startswith(obj_id_prefix):\n",
    "            return decoded_line.split(\": \")[1]\n",
    "    return None\n",
    "\n",
    "def complete_single_cell(single_cell_data: pd.DataFrame, trainingset_file_url: str, segmentation_data_dir: str) -> pd.DataFrame:\n",
    "    \"\"\"Add Mitocheck_Object_ID and Mitocheck_Phenotypic_Class fields to single cell data by matching cell object ID to phenotypic class given in traininset.dat\n",
    "\n",
    "    Args:\n",
    "        single_cell_data (pd.DataFrame): single cell data\n",
    "        trainingset_file_url (str): url location of raw traininset.dat file\n",
    "        segmentation_data_dir (str): url location of the raw segmentation data directory\n",
    "\n",
    "    Returns:\n",
    "        pd.DataFrame: completed single cell data\n",
    "    \"\"\"\n",
    "    plate, well, frame = get_single_cell_metadata(single_cell_data)\n",
    "    segmentation_data_url = f\"{segmentation_data_dir}/{plate}/{well}/{frame}/{plate}_{well}_{frame}.tsv\"\n",
    "    full_segmentation_data = pd.read_csv(segmentation_data_url, delimiter=\"\\\\t\").round(0)\n",
    "    cell_x_y = (round(single_cell_data[\"Location_Center_X\"]), round(single_cell_data[\"Location_Center_Y\"]))\n",
    "    cell_segmentation_data = full_segmentation_data.loc[(full_segmentation_data[\"Location_Center_X\"] == cell_x_y[0]) & (full_segmentation_data[\"Location_Center_Y\"] == cell_x_y[1])]\n",
    "    print(f\"Processed cell at: {plate}/{well}/{frame}, location: {cell_x_y}\")\n",
    "    if cell_segmentation_data.empty:\n",
    "        print(\"No segmentation data match found for this cell!\")\n",
    "    else:\n",
    "        single_cell_data = single_cell_data.to_frame().transpose()\n",
    "        single_cell_data.insert(0, \"Mitocheck_Object_ID\", cell_segmentation_data[\"Mitocheck_Object_ID\"].item())\n",
    "        cell_phenotypic_class = get_cell_class(single_cell_data, trainingset_file_url, plate, well, frame)\n",
    "        if cell_phenotypic_class == None:\n",
    "            print(\"This cell was not found in trainingset.dat!\")\n",
    "        single_cell_data.insert(0, \"Mitocheck_Phenotypic_Class\", cell_phenotypic_class)\n",
    "\n",
    "    return single_cell_data\n",
    "\n",
    "def format_training_data(mitocheck_data_version_url: str, save_path: pathlib.Path, compression: str) -> pd.DataFrame:\n",
    "    \"\"\"Add Mitocheck_Object_ID and Mitocheck_Phenotypic_Class fields to each single cell and compile all the cells into a single training data dataframe\n",
    "\n",
    "    Args:\n",
    "        mitocheck_data_version_url (str): url with path to desired version of raw mitocheck_data\n",
    "        save_path (pathlib.Path): path to save training data\n",
    "        compression (str): type of compression to use when saving dataframe\n",
    "\n",
    "    Returns:\n",
    "        pd.DataFrame: completed training data with Mitocheck_Object_ID and Mitocheck_Phenotypic_Class for each cell\n",
    "    \"\"\"\n",
    "    trainingset_file_url = f\"{mitocheck_data_version_url}/0.download_data/trainingset.dat\"\n",
    "    segmentation_data_dir = f\"{mitocheck_data_version_url}/2.segment_nuclei/segmented/\"\n",
    "    preprocessed_features_url = f\"{mitocheck_data_version_url}/4.preprocess_features/data/normalized_training_data.csv.gz\"\n",
    "\n",
    "    preprocessed_features = pd.read_csv(preprocessed_features_url, compression=\"gzip\")\n",
    "    print(\"Loaded preprocessed features!\")\n",
    "\n",
    "    training_data = []\n",
    "    for index, row in preprocessed_features.iterrows():\n",
    "        single_cell = row\n",
    "        completed_single_cell = complete_single_cell(single_cell, trainingset_file_url, segmentation_data_dir)\n",
    "        training_data.append(completed_single_cell)\n",
    "\n",
    "    training_data = pd.concat(training_data)\n",
    "    training_data.to_csv(save_path, compression=compression)\n",
    "    return training_data"
   ]
  },
  {
   "cell_type": "markdown",
   "metadata": {},
   "source": [
    "### Format training data"
   ]
  },
  {
   "cell_type": "code",
   "execution_count": null,
   "metadata": {},
   "outputs": [],
   "source": [
    "base_url = \"https://raw.github.com/WayScience/mitocheck_data/\"\n",
    "# hash changes depending on desired version of mitocheck_data being used\n",
    "hash = \"de21b9c3201ba4298db2b1704f3ae510a5dc47e2\"\n",
    "mitocheck_data_version_url = f\"{base_url}/{hash}\"\n",
    "\n",
    "output_dir = pathlib.Path(\"data/\")\n",
    "output_dir.mkdir(parents=True, exist_ok=True)\n",
    "save_path = pathlib.Path(f\"{output_dir}/training_data.csv.gz\")\n",
    "compression = \"gzip\"\n",
    "\n",
    "training_data = format_training_data(mitocheck_data_version_url, save_path, compression)"
   ]
  },
  {
   "cell_type": "code",
   "execution_count": null,
   "metadata": {},
   "outputs": [],
   "source": [
    "print(training_data.shape)"
   ]
  },
  {
   "cell_type": "code",
   "execution_count": null,
   "metadata": {},
   "outputs": [],
   "source": [
    "print(training_data.head())"
   ]
  }
 ],
 "metadata": {
  "kernelspec": {
   "display_name": "Python 3.8.13 ('0.download_data')",
   "language": "python",
   "name": "python3"
  },
  "language_info": {
   "name": "python",
   "version": "3.8.13"
  },
  "orig_nbformat": 4,
  "vscode": {
   "interpreter": {
    "hash": "d72cfd313ade3bef78d67760eb5a255533dd2c6f46eaf9e8cbc56664f13ee5d8"
   }
  }
 },
 "nbformat": 4,
 "nbformat_minor": 2
}
