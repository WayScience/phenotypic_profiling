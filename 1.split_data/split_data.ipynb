{
 "cells": [
  {
   "cell_type": "markdown",
   "metadata": {},
   "source": [
    "# Split feature data\n",
    "## Create tsv file with indexes for held out data, training data, and testing data\n",
    "### Import libraries"
   ]
  },
  {
   "cell_type": "code",
   "execution_count": null,
   "metadata": {},
   "outputs": [],
   "source": [
    "import pandas as pd\n",
    "import numpy as np\n",
    "import pathlib\n",
    "\n",
    "from sklearn.utils import shuffle\n",
    "\n",
    "import sys\n",
    "sys.path.append(\"../utils\")\n",
    "from split_utils import get_features_data, get_random_images_indexes, get_representative_images, get_image_indexes"
   ]
  },
  {
   "cell_type": "markdown",
   "metadata": {},
   "source": [
    "### Load data and set holdout/test parameters"
   ]
  },
  {
   "cell_type": "code",
   "execution_count": null,
   "metadata": {},
   "outputs": [],
   "source": [
    "# load x (features) and y (labels) dataframes\n",
    "load_path = pathlib.Path(\"../0.download_data/data/training_data.csv.gz\")\n",
    "training_data = get_features_data(load_path)\n",
    "print(training_data.shape)\n",
    "\n",
    "# ratio of data to be reserved for testing (ex 0.15 = 15%)\n",
    "test_ratio = 0.15"
   ]
  },
  {
   "cell_type": "code",
   "execution_count": null,
   "metadata": {},
   "outputs": [],
   "source": [
    "training_data"
   ]
  },
  {
   "cell_type": "code",
   "execution_count": null,
   "metadata": {},
   "outputs": [],
   "source": [
    "training_data.loc[training_data[\"Metadata_DNA\"] == \"LT0066_19/LT0066_19_287_1.tif\"]"
   ]
  },
  {
   "cell_type": "code",
   "execution_count": 22,
   "metadata": {},
   "outputs": [
    {
     "name": "stdout",
     "output_type": "stream",
     "text": [
      "For MetaphaseAlignment: first half has 10.619469026548673%\n",
      "For Artefact: first half has 6.83453237410072%\n",
      "For Prometaphase: first half has 14.940828402366865%\n",
      "For Interphase: first half has 15.75682382133995%\n",
      "For Grape: first half has 5.839416058394161%\n",
      "For Polylobed: first half has 8.507306889352819%\n",
      "For Apoptosis: first half has 14.7117296222664%\n",
      "For Metaphase: first half has 12.5%\n",
      "For Binuclear: first half has 21.689785624211854%\n",
      "For Elongated: first half has 23.57142857142857%\n",
      "For Hole: first half has 19.387755102040817%\n",
      "For Folded: first half has 32.53012048192771%\n",
      "For SmallIrregular: first half has 16.9811320754717%\n",
      "For ADCCM: first half has 31.11111111111111%\n",
      "For Anaphase: first half has 34.55882352941176%\n",
      "For Large: first half has 18.38235294117647%\n",
      "For OutOfFocus: first half has 5.88235294117647%\n"
     ]
    }
   ],
   "source": [
    "class_values = {\"MetaphaseAlignment\": 0}\n",
    "image_locations = training_data[\"Metadata_DNA\"].unique()\n",
    "np.random.shuffle(image_locations)\n",
    "num_train = int(len(image_locations)*0.85)\n",
    "image_locations_train = image_locations[num_train:]\n",
    "image_locations_test = image_locations[:num_train]\n",
    "\n",
    "for phenotypic_class in training_data[\"Mitocheck_Phenotypic_Class\"].unique():\n",
    "    first_total = 0\n",
    "    for image_location in image_locations_train:\n",
    "        try:\n",
    "            m_a_count = training_data.loc[training_data[\"Metadata_DNA\"] == image_location][\"Mitocheck_Phenotypic_Class\"].value_counts()[phenotypic_class]\n",
    "        except KeyError:\n",
    "            continue\n",
    "        first_total += m_a_count\n",
    "\n",
    "    second_total = 0\n",
    "    for image_location in image_locations_test:\n",
    "        try:\n",
    "            m_a_count = training_data.loc[training_data[\"Metadata_DNA\"] == image_location][\"Mitocheck_Phenotypic_Class\"].value_counts()[phenotypic_class]\n",
    "        except KeyError:\n",
    "            continue\n",
    "        second_total += m_a_count\n",
    "    print(f\"For {phenotypic_class}: first half has {first_total/(first_total+second_total)*100}%\")"
   ]
  },
  {
   "cell_type": "code",
   "execution_count": null,
   "metadata": {},
   "outputs": [],
   "source": [
    "# test_data is pandas dataframe with test split, stratified by Mitocheck_Phenotypic_Class\n",
    "test_data = training_data.groupby(\"Mitocheck_Phenotypic_Class\", group_keys=False).apply(\n",
    "    lambda x: x.sample(frac=test_ratio)\n",
    ")\n",
    "test_indexes = test_data.index\n",
    "# remove test indexes\n",
    "training_data = training_data.drop(pd.Index(data=test_indexes))\n",
    "\n",
    "train_indexes = np.array(training_data.index)\n",
    "print(training_data.shape)"
   ]
  },
  {
   "cell_type": "code",
   "execution_count": null,
   "metadata": {},
   "outputs": [],
   "source": [
    "# create pandas dataframe with all indexes and their respective labels\n",
    "index_data = []\n",
    "for index in test_indexes:\n",
    "    index_data.append({\"label\": \"test\", \"index\": index})\n",
    "for index in train_indexes:\n",
    "    index_data.append({\"label\": \"train\", \"index\": index})\n",
    "index_data = pd.DataFrame(index_data)\n",
    "index_data"
   ]
  },
  {
   "cell_type": "markdown",
   "metadata": {},
   "source": [
    "### Save indexes"
   ]
  },
  {
   "cell_type": "code",
   "execution_count": null,
   "metadata": {},
   "outputs": [],
   "source": [
    "# make results dir for saving\n",
    "results_dir = pathlib.Path(\"indexes/\")\n",
    "results_dir.mkdir(parents=True, exist_ok=True)\n",
    "# save indexes as tsv file\n",
    "index_data.to_csv(f\"{results_dir}/data_split_indexes.tsv\", sep=\"\\t\")"
   ]
  }
 ],
 "metadata": {
  "kernelspec": {
   "display_name": "Python 3.8.13 ('phenotypic_profiling')",
   "language": "python",
   "name": "python3"
  },
  "language_info": {
   "codemirror_mode": {
    "name": "ipython",
    "version": 3
   },
   "file_extension": ".py",
   "mimetype": "text/x-python",
   "name": "python",
   "nbconvert_exporter": "python",
   "pygments_lexer": "ipython3",
   "version": "3.8.13"
  },
  "orig_nbformat": 4,
  "vscode": {
   "interpreter": {
    "hash": "f9df586d1764dbc68785000a153dad1832127ac564b5e2e4c94e83fc43160b30"
   }
  }
 },
 "nbformat": 4,
 "nbformat_minor": 2
}
