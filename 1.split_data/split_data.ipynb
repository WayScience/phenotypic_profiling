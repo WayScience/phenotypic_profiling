{
 "cells": [
  {
   "cell_type": "markdown",
   "metadata": {},
   "source": [
    "# Split feature data\n",
    "## Create tsv file with indexes for held out data, training data, and testing data\n",
    "### Import libraries"
   ]
  },
  {
   "cell_type": "code",
   "execution_count": 1,
   "metadata": {},
   "outputs": [],
   "source": [
    "import pandas as pd\n",
    "import numpy as np\n",
    "import pathlib\n",
    "\n",
    "from sklearn.utils import shuffle\n",
    "\n",
    "import sys\n",
    "sys.path.append(\"../utils\")\n",
    "from split_utils import get_features_data, get_random_images_indexes, get_representative_images, get_image_indexes"
   ]
  },
  {
   "cell_type": "markdown",
   "metadata": {},
   "source": [
    "### Load data and set holdout/test parameters"
   ]
  },
  {
   "cell_type": "code",
   "execution_count": 2,
   "metadata": {},
   "outputs": [
    {
     "name": "stdout",
     "output_type": "stream",
     "text": [
      "(4474, 1293)\n"
     ]
    }
   ],
   "source": [
    "# load x (features) and y (labels) dataframes\n",
    "load_path = pathlib.Path(\"../0.download_data/data/training_data.csv.gz\")\n",
    "training_data = get_features_data(load_path)\n",
    "print(training_data.shape)\n",
    "\n",
    "# number of images to holdout\n",
    "num_holdout_images = 5\n",
    "# ratio of data to be reserved for testing (ex 0.15 = 15%)\n",
    "test_ratio = 0.15"
   ]
  },
  {
   "cell_type": "code",
   "execution_count": 3,
   "metadata": {},
   "outputs": [
    {
     "name": "stdout",
     "output_type": "stream",
     "text": [
      "(3996, 1293)\n"
     ]
    }
   ],
   "source": [
    "# remove holdout indexes\n",
    "images = get_representative_images(training_data, num_holdout_images, 10000)\n",
    "holdout_image_indexes = get_image_indexes(training_data, images)\n",
    "training_data = training_data.drop(pd.Index(data=holdout_image_indexes))\n",
    "print(training_data.shape)"
   ]
  },
  {
   "cell_type": "code",
   "execution_count": 4,
   "metadata": {},
   "outputs": [
    {
     "name": "stdout",
     "output_type": "stream",
     "text": [
      "(3398, 1293)\n"
     ]
    }
   ],
   "source": [
    "# remove test indexes\n",
    "# test_data is pandas dataframe with test split, stratified by Mitocheck_Phenotypic_Class\n",
    "test_data = training_data.groupby(\"Mitocheck_Phenotypic_Class\", group_keys=False).apply(\n",
    "    lambda x: x.sample(frac=test_ratio)\n",
    ")\n",
    "test_indexes = test_data.index\n",
    "training_data = training_data.drop(pd.Index(data=test_indexes))\n",
    "\n",
    "train_indexes = np.array(training_data.index)\n",
    "print(training_data.shape)"
   ]
  },
  {
   "cell_type": "code",
   "execution_count": 5,
   "metadata": {},
   "outputs": [
    {
     "data": {
      "text/html": [
       "<div>\n",
       "<style scoped>\n",
       "    .dataframe tbody tr th:only-of-type {\n",
       "        vertical-align: middle;\n",
       "    }\n",
       "\n",
       "    .dataframe tbody tr th {\n",
       "        vertical-align: top;\n",
       "    }\n",
       "\n",
       "    .dataframe thead th {\n",
       "        text-align: right;\n",
       "    }\n",
       "</style>\n",
       "<table border=\"1\" class=\"dataframe\">\n",
       "  <thead>\n",
       "    <tr style=\"text-align: right;\">\n",
       "      <th></th>\n",
       "      <th>label</th>\n",
       "      <th>index</th>\n",
       "    </tr>\n",
       "  </thead>\n",
       "  <tbody>\n",
       "    <tr>\n",
       "      <th>0</th>\n",
       "      <td>holdout</td>\n",
       "      <td>3291</td>\n",
       "    </tr>\n",
       "    <tr>\n",
       "      <th>1</th>\n",
       "      <td>holdout</td>\n",
       "      <td>3292</td>\n",
       "    </tr>\n",
       "    <tr>\n",
       "      <th>2</th>\n",
       "      <td>holdout</td>\n",
       "      <td>3293</td>\n",
       "    </tr>\n",
       "    <tr>\n",
       "      <th>3</th>\n",
       "      <td>holdout</td>\n",
       "      <td>3294</td>\n",
       "    </tr>\n",
       "    <tr>\n",
       "      <th>4</th>\n",
       "      <td>holdout</td>\n",
       "      <td>3295</td>\n",
       "    </tr>\n",
       "    <tr>\n",
       "      <th>...</th>\n",
       "      <td>...</td>\n",
       "      <td>...</td>\n",
       "    </tr>\n",
       "    <tr>\n",
       "      <th>4469</th>\n",
       "      <td>train</td>\n",
       "      <td>4646</td>\n",
       "    </tr>\n",
       "    <tr>\n",
       "      <th>4470</th>\n",
       "      <td>train</td>\n",
       "      <td>4647</td>\n",
       "    </tr>\n",
       "    <tr>\n",
       "      <th>4471</th>\n",
       "      <td>train</td>\n",
       "      <td>4648</td>\n",
       "    </tr>\n",
       "    <tr>\n",
       "      <th>4472</th>\n",
       "      <td>train</td>\n",
       "      <td>4650</td>\n",
       "    </tr>\n",
       "    <tr>\n",
       "      <th>4473</th>\n",
       "      <td>train</td>\n",
       "      <td>4652</td>\n",
       "    </tr>\n",
       "  </tbody>\n",
       "</table>\n",
       "<p>4474 rows × 2 columns</p>\n",
       "</div>"
      ],
      "text/plain": [
       "        label  index\n",
       "0     holdout   3291\n",
       "1     holdout   3292\n",
       "2     holdout   3293\n",
       "3     holdout   3294\n",
       "4     holdout   3295\n",
       "...       ...    ...\n",
       "4469    train   4646\n",
       "4470    train   4647\n",
       "4471    train   4648\n",
       "4472    train   4650\n",
       "4473    train   4652\n",
       "\n",
       "[4474 rows x 2 columns]"
      ]
     },
     "execution_count": 5,
     "metadata": {},
     "output_type": "execute_result"
    }
   ],
   "source": [
    "# create pandas dataframe with all indexes and their respective labels\n",
    "index_data = []\n",
    "for index in holdout_image_indexes:\n",
    "    index_data.append({\"label\": \"holdout\", \"index\": index})\n",
    "for index in test_indexes:\n",
    "    index_data.append({\"label\": \"test\", \"index\": index})\n",
    "for index in train_indexes:\n",
    "    index_data.append({\"label\": \"train\", \"index\": index})\n",
    "index_data = pd.DataFrame(index_data)\n",
    "index_data"
   ]
  },
  {
   "cell_type": "markdown",
   "metadata": {},
   "source": [
    "### Save indexes"
   ]
  },
  {
   "cell_type": "code",
   "execution_count": 6,
   "metadata": {},
   "outputs": [],
   "source": [
    "# make results dir for saving\n",
    "results_dir = pathlib.Path(\"indexes/\")\n",
    "results_dir.mkdir(parents=True, exist_ok=True)\n",
    "# save indexes as tsv file\n",
    "index_data.to_csv(f\"{results_dir}/data_split_indexes.tsv\", sep=\"\\t\")"
   ]
  }
 ],
 "metadata": {
  "kernelspec": {
   "display_name": "Python 3.8.13 ('phenotypic_profiling')",
   "language": "python",
   "name": "python3"
  },
  "language_info": {
   "codemirror_mode": {
    "name": "ipython",
    "version": 3
   },
   "file_extension": ".py",
   "mimetype": "text/x-python",
   "name": "python",
   "nbconvert_exporter": "python",
   "pygments_lexer": "ipython3",
   "version": "3.8.13"
  },
  "orig_nbformat": 4,
  "vscode": {
   "interpreter": {
    "hash": "f9df586d1764dbc68785000a153dad1832127ac564b5e2e4c94e83fc43160b30"
   }
  }
 },
 "nbformat": 4,
 "nbformat_minor": 2
}
