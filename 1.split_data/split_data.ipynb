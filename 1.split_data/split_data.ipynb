{
 "cells": [
  {
   "cell_type": "markdown",
   "metadata": {},
   "source": [
    "# Split feature data\n",
    "## Create tsv file with indexes for held out data, training data, and testing data\n",
    "### Import libraries"
   ]
  },
  {
   "cell_type": "code",
   "execution_count": 6,
   "metadata": {},
   "outputs": [],
   "source": [
    "import pathlib\n",
    "import pandas as pd\n",
    "from sklearn.model_selection import train_test_split\n",
    "\n",
    "import sys\n",
    "sys.path.append(\"../utils\")\n",
    "from split_utils import get_features_data"
   ]
  },
  {
   "cell_type": "markdown",
   "metadata": {},
   "source": [
    "### Load data and set holdout/test parameters"
   ]
  },
  {
   "cell_type": "code",
   "execution_count": 7,
   "metadata": {},
   "outputs": [
    {
     "name": "stdout",
     "output_type": "stream",
     "text": [
      "(2862, 1456)\n"
     ]
    }
   ],
   "source": [
    "# load x (features) and y (labels) dataframes\n",
    "labeled_data_path = pathlib.Path(\"../0.download_data/data/labeled_data.csv.gz\")\n",
    "labeled_data = get_features_data(labeled_data_path)\n",
    "print(labeled_data.shape)"
   ]
  },
  {
   "cell_type": "code",
   "execution_count": 8,
   "metadata": {},
   "outputs": [
    {
     "name": "stdout",
     "output_type": "stream",
     "text": [
      "Training data has shape: (2432, 1456)\n",
      "Testing data has shape: (430, 1456)\n"
     ]
    }
   ],
   "source": [
    "# ratio of data to be used for testing (ex 0.15 = 15%)\n",
    "test_ratio = 0.15\n",
    "\n",
    "# get indexes of training and testing data\n",
    "training_data, testing_data = train_test_split(labeled_data, test_size=test_ratio, random_state=0)\n",
    "train_indexes = training_data.index.to_numpy()\n",
    "test_indexes = testing_data.index.to_numpy()\n",
    "\n",
    "print(f\"Training data has shape: {training_data.shape}\")\n",
    "print(f\"Testing data has shape: {testing_data.shape}\")"
   ]
  },
  {
   "cell_type": "code",
   "execution_count": 9,
   "metadata": {},
   "outputs": [
    {
     "data": {
      "text/html": [
       "<div>\n",
       "<style scoped>\n",
       "    .dataframe tbody tr th:only-of-type {\n",
       "        vertical-align: middle;\n",
       "    }\n",
       "\n",
       "    .dataframe tbody tr th {\n",
       "        vertical-align: top;\n",
       "    }\n",
       "\n",
       "    .dataframe thead th {\n",
       "        text-align: right;\n",
       "    }\n",
       "</style>\n",
       "<table border=\"1\" class=\"dataframe\">\n",
       "  <thead>\n",
       "    <tr style=\"text-align: right;\">\n",
       "      <th></th>\n",
       "      <th>labeled_data_index</th>\n",
       "      <th>label</th>\n",
       "    </tr>\n",
       "  </thead>\n",
       "  <tbody>\n",
       "    <tr>\n",
       "      <th>1986</th>\n",
       "      <td>0</td>\n",
       "      <td>train</td>\n",
       "    </tr>\n",
       "    <tr>\n",
       "      <th>384</th>\n",
       "      <td>1</td>\n",
       "      <td>train</td>\n",
       "    </tr>\n",
       "    <tr>\n",
       "      <th>1042</th>\n",
       "      <td>2</td>\n",
       "      <td>train</td>\n",
       "    </tr>\n",
       "    <tr>\n",
       "      <th>2017</th>\n",
       "      <td>3</td>\n",
       "      <td>train</td>\n",
       "    </tr>\n",
       "    <tr>\n",
       "      <th>231</th>\n",
       "      <td>4</td>\n",
       "      <td>train</td>\n",
       "    </tr>\n",
       "    <tr>\n",
       "      <th>...</th>\n",
       "      <td>...</td>\n",
       "      <td>...</td>\n",
       "    </tr>\n",
       "    <tr>\n",
       "      <th>965</th>\n",
       "      <td>2911</td>\n",
       "      <td>train</td>\n",
       "    </tr>\n",
       "    <tr>\n",
       "      <th>1331</th>\n",
       "      <td>2912</td>\n",
       "      <td>train</td>\n",
       "    </tr>\n",
       "    <tr>\n",
       "      <th>1664</th>\n",
       "      <td>2913</td>\n",
       "      <td>train</td>\n",
       "    </tr>\n",
       "    <tr>\n",
       "      <th>2508</th>\n",
       "      <td>2914</td>\n",
       "      <td>test</td>\n",
       "    </tr>\n",
       "    <tr>\n",
       "      <th>225</th>\n",
       "      <td>2915</td>\n",
       "      <td>train</td>\n",
       "    </tr>\n",
       "  </tbody>\n",
       "</table>\n",
       "<p>2862 rows × 2 columns</p>\n",
       "</div>"
      ],
      "text/plain": [
       "      labeled_data_index  label\n",
       "1986                   0  train\n",
       "384                    1  train\n",
       "1042                   2  train\n",
       "2017                   3  train\n",
       "231                    4  train\n",
       "...                  ...    ...\n",
       "965                 2911  train\n",
       "1331                2912  train\n",
       "1664                2913  train\n",
       "2508                2914   test\n",
       "225                 2915  train\n",
       "\n",
       "[2862 rows x 2 columns]"
      ]
     },
     "execution_count": 9,
     "metadata": {},
     "output_type": "execute_result"
    }
   ],
   "source": [
    "# create pandas dataframe with all indexes and their respective labels\n",
    "index_data = []\n",
    "for index in train_indexes:\n",
    "    index_data.append({\"labeled_data_index\": index, \"label\": \"train\"})\n",
    "for index in test_indexes:\n",
    "    index_data.append({\"labeled_data_index\": index, \"label\": \"test\"})\n",
    "\n",
    "# make index data a dataframe and sort it by labeled data index\n",
    "index_data = (\n",
    "    pd.DataFrame(index_data)\n",
    "    .sort_values([\"labeled_data_index\"])\n",
    ")\n",
    "\n",
    "index_data"
   ]
  },
  {
   "cell_type": "markdown",
   "metadata": {},
   "source": [
    "### Save indexes"
   ]
  },
  {
   "cell_type": "code",
   "execution_count": 10,
   "metadata": {},
   "outputs": [],
   "source": [
    "# make results dir for saving\n",
    "results_dir = pathlib.Path(\"indexes/\")\n",
    "results_dir.mkdir(parents=True, exist_ok=True)\n",
    "# save indexes as tsv file\n",
    "index_data.to_csv(f\"{results_dir}/data_split_indexes.tsv\", sep=\"\\t\")"
   ]
  }
 ],
 "metadata": {
  "kernelspec": {
   "display_name": "Python 3.8.13 ('phenotypic_profiling')",
   "language": "python",
   "name": "python3"
  },
  "language_info": {
   "codemirror_mode": {
    "name": "ipython",
    "version": 3
   },
   "file_extension": ".py",
   "mimetype": "text/x-python",
   "name": "python",
   "nbconvert_exporter": "python",
   "pygments_lexer": "ipython3",
   "version": "3.8.13"
  },
  "orig_nbformat": 4,
  "vscode": {
   "interpreter": {
    "hash": "f9df586d1764dbc68785000a153dad1832127ac564b5e2e4c94e83fc43160b30"
   }
  }
 },
 "nbformat": 4,
 "nbformat_minor": 2
}
