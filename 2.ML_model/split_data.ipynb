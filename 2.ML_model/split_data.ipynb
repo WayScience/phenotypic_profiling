{
 "cells": [
  {
   "cell_type": "markdown",
   "metadata": {},
   "source": [
    "### Import libraries\n"
   ]
  },
  {
   "cell_type": "code",
   "execution_count": 85,
   "metadata": {},
   "outputs": [],
   "source": [
    "import pandas as pd\n",
    "import numpy as np\n",
    "import pathlib\n",
    "from typing import Tuple, Any, List, Union\n",
    "\n",
    "from sklearn.utils import shuffle"
   ]
  },
  {
   "cell_type": "markdown",
   "metadata": {},
   "source": [
    "#### Helper functions\n"
   ]
  },
  {
   "cell_type": "code",
   "execution_count": 86,
   "metadata": {},
   "outputs": [],
   "source": [
    "def get_training_data(load_path: pathlib.Path) -> pd.DataFrame:\n",
    "    \"\"\"get DP training data from csv at load path\n",
    "\n",
    "    Args:\n",
    "        load_path (pathlib.Path): path to training data csv\n",
    "\n",
    "    Returns:\n",
    "        pd.DataFrame: training dataframe\n",
    "    \"\"\"\n",
    "    # read dataset into pandas dataframe\n",
    "    training_data = pd.read_csv(load_path, index_col=0)\n",
    "\n",
    "    # remove training data with ADCCM class as this class was not used for classification in original paper\n",
    "    training_data = training_data[\n",
    "        training_data[\"Mitocheck_Phenotypic_Class\"] != \"ADCCM\"\n",
    "    ]\n",
    "\n",
    "    # replace shape1 and shape3 labels with their correct respective classes\n",
    "    training_data = training_data.replace(\"Shape1\", \"Binuclear\")\n",
    "    training_data = training_data.replace(\"Shape3\", \"Polylobed\")\n",
    "\n",
    "    return training_data\n",
    "\n",
    "\n",
    "def get_X_y_data(load_path: pathlib.Path) -> Tuple[pd.DataFrame, pd.DataFrame]:\n",
    "    \"\"\"generate X (features) and y (labels) dataframes from training data\n",
    "\n",
    "    Args:\n",
    "        load_path (pathlib.Path): path to training data csv\n",
    "\n",
    "    Returns:\n",
    "        Tuple[pd.DataFrame, pd.DataFrame]: X, y dataframes\n",
    "    \"\"\"\n",
    "    training_data = get_training_data(load_path)\n",
    "\n",
    "    # all features from DeepProfiler have \"efficientnet\" in their column name\n",
    "    morphology_features = [\n",
    "        col for col in training_data.columns.tolist() if \"efficientnet\" in col\n",
    "    ]\n",
    "\n",
    "    # extract features\n",
    "    X = training_data.loc[:, morphology_features].values\n",
    "\n",
    "    # extract phenotypic class label\n",
    "    y = training_data.loc[:, [\"Mitocheck_Phenotypic_Class\"]].values\n",
    "    # make Y data\n",
    "    y = np.ravel(y)\n",
    "\n",
    "    # shuffle data because as it comes from MitoCheck same labels tend to be in grou\n",
    "    X, y = shuffle(X, y, random_state=0)\n",
    "\n",
    "    return X, y\n",
    "\n",
    "\n",
    "def get_random_images_indexes(training_data: pd.DataFrame, num_images: int) -> List:\n",
    "    \"\"\"get image indexes from training dataset\n",
    "\n",
    "    Args:\n",
    "        training_data (pd.DataFrame): pandas dataframe of training data\n",
    "        num_images (int): number of images to holdout\n",
    "\n",
    "    Returns:\n",
    "        List: list of image indexes to with held out images\n",
    "    \"\"\"\n",
    "    unique_images = pd.unique(training_data[\"Metadata_Plate_Map_Name\"])\n",
    "    images = np.random.choice(unique_images, size=num_images, replace=False)\n",
    "\n",
    "    image_indexes_list = []\n",
    "    for image in images:\n",
    "        image_indexes = training_data.index[\n",
    "            training_data[\"Metadata_Plate_Map_Name\"] == image\n",
    "        ].tolist()\n",
    "        image_indexes_list.extend(image_indexes)\n",
    "\n",
    "    return image_indexes_list"
   ]
  },
  {
   "cell_type": "code",
   "execution_count": 87,
   "metadata": {},
   "outputs": [
    {
     "name": "stdout",
     "output_type": "stream",
     "text": [
      "(4123, 1292)\n"
     ]
    }
   ],
   "source": [
    "# load x (features) and y (labels) dataframes\n",
    "load_path = pathlib.Path(\"../1.format_data/data/training_data.csv.gz\")\n",
    "training_data = get_training_data(load_path)\n",
    "print(training_data.shape)\n",
    "\n",
    "# number of images to holdout\n",
    "num_holdout_images = 5\n",
    "# ratio of data to be reserved for testing (ex 0.15 = 15%)\n",
    "test_ratio = 0.15"
   ]
  },
  {
   "cell_type": "code",
   "execution_count": 88,
   "metadata": {},
   "outputs": [
    {
     "name": "stdout",
     "output_type": "stream",
     "text": [
      "(3973, 1292)\n"
     ]
    }
   ],
   "source": [
    "# remove holdout indexes\n",
    "holdout_image_indexes = get_random_images_indexes(training_data, num_holdout_images)\n",
    "training_data = training_data.drop(pd.Index(data=holdout_image_indexes))\n",
    "print(training_data.shape)"
   ]
  },
  {
   "cell_type": "code",
   "execution_count": 89,
   "metadata": {},
   "outputs": [
    {
     "name": "stdout",
     "output_type": "stream",
     "text": [
      "(3378, 1292)\n"
     ]
    }
   ],
   "source": [
    "# remove test indexes\n",
    "num_test_indexes = int(len(training_data.index) * test_ratio)\n",
    "test_indexes = np.random.choice(\n",
    "    training_data.index, size=num_test_indexes, replace=False\n",
    ")\n",
    "training_data = training_data.drop(pd.Index(data=test_indexes))\n",
    "train_indexes = np.array(training_data.index)\n",
    "print(training_data.shape)"
   ]
  },
  {
   "cell_type": "code",
   "execution_count": 90,
   "metadata": {},
   "outputs": [
    {
     "data": {
      "text/html": [
       "<div>\n",
       "<style scoped>\n",
       "    .dataframe tbody tr th:only-of-type {\n",
       "        vertical-align: middle;\n",
       "    }\n",
       "\n",
       "    .dataframe tbody tr th {\n",
       "        vertical-align: top;\n",
       "    }\n",
       "\n",
       "    .dataframe thead th {\n",
       "        text-align: right;\n",
       "    }\n",
       "</style>\n",
       "<table border=\"1\" class=\"dataframe\">\n",
       "  <thead>\n",
       "    <tr style=\"text-align: right;\">\n",
       "      <th></th>\n",
       "      <th>label</th>\n",
       "      <th>index</th>\n",
       "    </tr>\n",
       "  </thead>\n",
       "  <tbody>\n",
       "    <tr>\n",
       "      <th>0</th>\n",
       "      <td>holdout</td>\n",
       "      <td>4186</td>\n",
       "    </tr>\n",
       "    <tr>\n",
       "      <th>1</th>\n",
       "      <td>holdout</td>\n",
       "      <td>4187</td>\n",
       "    </tr>\n",
       "    <tr>\n",
       "      <th>2</th>\n",
       "      <td>holdout</td>\n",
       "      <td>4188</td>\n",
       "    </tr>\n",
       "    <tr>\n",
       "      <th>3</th>\n",
       "      <td>holdout</td>\n",
       "      <td>4189</td>\n",
       "    </tr>\n",
       "    <tr>\n",
       "      <th>4</th>\n",
       "      <td>holdout</td>\n",
       "      <td>107</td>\n",
       "    </tr>\n",
       "    <tr>\n",
       "      <th>...</th>\n",
       "      <td>...</td>\n",
       "      <td>...</td>\n",
       "    </tr>\n",
       "    <tr>\n",
       "      <th>4118</th>\n",
       "      <td>train</td>\n",
       "      <td>4303</td>\n",
       "    </tr>\n",
       "    <tr>\n",
       "      <th>4119</th>\n",
       "      <td>train</td>\n",
       "      <td>4304</td>\n",
       "    </tr>\n",
       "    <tr>\n",
       "      <th>4120</th>\n",
       "      <td>train</td>\n",
       "      <td>4305</td>\n",
       "    </tr>\n",
       "    <tr>\n",
       "      <th>4121</th>\n",
       "      <td>train</td>\n",
       "      <td>4306</td>\n",
       "    </tr>\n",
       "    <tr>\n",
       "      <th>4122</th>\n",
       "      <td>train</td>\n",
       "      <td>4307</td>\n",
       "    </tr>\n",
       "  </tbody>\n",
       "</table>\n",
       "<p>4123 rows × 2 columns</p>\n",
       "</div>"
      ],
      "text/plain": [
       "        label  index\n",
       "0     holdout   4186\n",
       "1     holdout   4187\n",
       "2     holdout   4188\n",
       "3     holdout   4189\n",
       "4     holdout    107\n",
       "...       ...    ...\n",
       "4118    train   4303\n",
       "4119    train   4304\n",
       "4120    train   4305\n",
       "4121    train   4306\n",
       "4122    train   4307\n",
       "\n",
       "[4123 rows x 2 columns]"
      ]
     },
     "execution_count": 90,
     "metadata": {},
     "output_type": "execute_result"
    }
   ],
   "source": [
    "# create pandas dataframe with all indexes and their respective labels\n",
    "index_data = []\n",
    "for index in holdout_image_indexes:\n",
    "    index_data.append({\"label\": \"holdout\", \"index\": index})\n",
    "for index in test_indexes:\n",
    "    index_data.append({\"label\": \"test\", \"index\": index})\n",
    "for index in train_indexes:\n",
    "    index_data.append({\"label\": \"train\", \"index\": index})\n",
    "index_data = pd.DataFrame(index_data)\n",
    "index_data"
   ]
  },
  {
   "cell_type": "code",
   "execution_count": 91,
   "metadata": {},
   "outputs": [],
   "source": [
    "# make results dir for saving\n",
    "results_dir = pathlib.Path(\"results/\")\n",
    "results_dir.mkdir(parents=True, exist_ok=True)\n",
    "# save indexes as tsv file\n",
    "index_data.to_csv(f\"{results_dir}/data_split_indexes.tsv\", sep=\"\\t\")"
   ]
  }
 ],
 "metadata": {
  "kernelspec": {
   "display_name": "Python 3.8.13 ('2.ML_phenotypic_classification')",
   "language": "python",
   "name": "python3"
  },
  "language_info": {
   "codemirror_mode": {
    "name": "ipython",
    "version": 3
   },
   "file_extension": ".py",
   "mimetype": "text/x-python",
   "name": "python",
   "nbconvert_exporter": "python",
   "pygments_lexer": "ipython3",
   "version": "3.8.13"
  },
  "orig_nbformat": 4,
  "vscode": {
   "interpreter": {
    "hash": "4cc408a06ad49ae0c78cd765de22f61d31a0f8b0861ec15e52107dd82d811e52"
   }
  }
 },
 "nbformat": 4,
 "nbformat_minor": 2
}
