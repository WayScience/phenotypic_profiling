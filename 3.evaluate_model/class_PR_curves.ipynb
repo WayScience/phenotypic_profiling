{
 "cells": [
  {
   "cell_type": "markdown",
   "metadata": {},
   "source": [
    "### Import Libraries\n"
   ]
  },
  {
   "cell_type": "code",
   "execution_count": null,
   "metadata": {},
   "outputs": [],
   "source": [
    "import pandas as pd\n",
    "import pathlib\n",
    "from joblib import load\n",
    "from matplotlib import pyplot as plt\n",
    "import itertools\n",
    "\n",
    "import sys\n",
    "\n",
    "sys.path.append(\"../utils\")\n",
    "from split_utils import get_features_data\n",
    "from train_utils import get_dataset\n",
    "from evaluate_utils import class_PR_curves, class_PR_curves_SCM\n"
   ]
  },
  {
   "cell_type": "markdown",
   "metadata": {},
   "source": [
    "### Load models and datasets\n"
   ]
  },
  {
   "cell_type": "code",
   "execution_count": null,
   "metadata": {},
   "outputs": [],
   "source": [
    "# load features data from indexes and features dataframe\n",
    "data_split_path = pathlib.Path(\"../1.split_data/indexes/data_split_indexes.tsv\")\n",
    "data_split_indexes = pd.read_csv(data_split_path, sep=\"\\t\", index_col=0)\n",
    "features_dataframe_path = pathlib.Path(\"../0.download_data/data/labeled_data.csv.gz\")\n",
    "features_dataframe = get_features_data(features_dataframe_path)"
   ]
  },
  {
   "cell_type": "markdown",
   "metadata": {},
   "source": [
    "### Evaluate each model on each dataset (multiclass)\n"
   ]
  },
  {
   "cell_type": "code",
   "execution_count": null,
   "metadata": {},
   "outputs": [],
   "source": [
    "# directory to load the models from\n",
    "models_dir = pathlib.Path(\"../2.train_model/models/multi_class_models/\")\n",
    "\n",
    "# use a list to keep track of scores in tidy long format for each model and dataset combination\n",
    "compiled_class_PR_curves = []\n",
    "\n",
    "# iterate through each model (final model, shuffled baseline model, etc)\n",
    "# sorted so final models are shown before shuffled_baseline\n",
    "for model_path in sorted(models_dir.iterdir()):\n",
    "    # load model\n",
    "    model = load(model_path)\n",
    "    # determine model/feature type from model file name\n",
    "    model_type = model_path.name.split(\"__\")[0]\n",
    "    feature_type = model_path.name.split(\"__\")[1].replace(\".joblib\", \"\")\n",
    "\n",
    "    # iterate through label datasets (labels correspond to train, test, etc)\n",
    "    # with nested for loops, we test each model on each dataset(corresponding to a label)\n",
    "    for label in data_split_indexes[\"label\"].unique():\n",
    "        print(\n",
    "            f\"Evaluating model: {model_type} \\nTrained with features: {feature_type} \\nEvaluating with dataset: {label}\"\n",
    "        )\n",
    "\n",
    "        # load dataset (train, test, etc)\n",
    "        data = get_dataset(features_dataframe, data_split_indexes, label)\n",
    "\n",
    "        # get class PR curve data and show curve\n",
    "        fig, PR_data = class_PR_curves(data, model, feature_type)\n",
    "        fig.suptitle(\n",
    "            f\"PR curves for {model_type} model using {feature_type} features on {label} dataset\"\n",
    "        )\n",
    "        plt.show()\n",
    "\n",
    "        # add data split column to indicate which dataset scores are from (train, test, etc)\n",
    "        PR_data[\"data_split\"] = label\n",
    "        # add shuffled column to indicate if the model has been trained with shuffled data (random baseline) or not\n",
    "        PR_data[\"shuffled\"] = \"shuffled\" in model_type\n",
    "        # add feature type column to indicate which features model has been trained on/is using\n",
    "        PR_data[\"feature_type\"] = feature_type\n",
    "\n",
    "        # add this score data to the tidy scores compiling list\n",
    "        compiled_class_PR_curves.append(PR_data)"
   ]
  },
  {
   "cell_type": "markdown",
   "metadata": {},
   "source": [
    "### Save PR curves from each evaluation (multiclass)\n"
   ]
  },
  {
   "cell_type": "code",
   "execution_count": null,
   "metadata": {},
   "outputs": [],
   "source": [
    "# compile list of tidy data into one dataframe\n",
    "# some thresholds are None because last PR value doesnt correspond to cell dataset (these values are always P=1, R=0), remove these rows from PR data\n",
    "compiled_class_PR_curves = (\n",
    "    pd.concat(compiled_class_PR_curves).dropna().reset_index(drop=True)\n",
    ")\n",
    "\n",
    "# specify results directory\n",
    "PR_curves_dir = pathlib.Path(\"evaluations/precision_recall_curves/\")\n",
    "PR_curves_dir.mkdir(parents=True, exist_ok=True)\n",
    "\n",
    "# define save path\n",
    "compiled_PR_data_save_path = pathlib.Path(\n",
    "    f\"{PR_curves_dir}/compiled_class_PR_curves.tsv\"\n",
    ")\n",
    "\n",
    "# save data as tsv\n",
    "compiled_class_PR_curves.to_csv(compiled_PR_data_save_path, sep=\"\\t\")\n",
    "\n",
    "# preview tidy data\n",
    "compiled_class_PR_curves"
   ]
  },
  {
   "cell_type": "markdown",
   "metadata": {},
   "source": [
    "### Evaluate each model on each dataset (multiclass)\n"
   ]
  },
  {
   "cell_type": "code",
   "execution_count": null,
   "metadata": {},
   "outputs": [],
   "source": [
    "# directory to load the models from\n",
    "single_class_models_dir = pathlib.Path(\"../2.train_model/models/single_class_models\")\n",
    "\n",
    "# use a list to keep track of scores in tidy long format for each model and dataset combination\n",
    "compiled_class_PR_curves = []\n",
    "\n",
    "# define combinations to test over\n",
    "model_types = [\"final\", \"shuffled_baseline\"]\n",
    "feature_types = [\"CP\", \"DP\", \"CP_and_DP\"]\n",
    "evaluation_types = [\"train\", \"test\"]\n",
    "phenotypic_classes = features_dataframe[\"Mitocheck_Phenotypic_Class\"].unique()\n",
    "\n",
    "# colors for plotted lines\n",
    "data_split_colors = {\n",
    "    \"CP_and_DP (test)\": \"#C214CB\",\n",
    "    \"CP_and_DP (train)\": \"#E88EED\",\n",
    "    \"CP (test)\": \"#EB4B4B\",\n",
    "    \"CP (train)\": \"#F8B5B5\",\n",
    "    \"DP (test)\": \"#5158bb\",\n",
    "    \"DP (train)\": \"#B5B9EA\",\n",
    "}\n",
    "\n",
    "# data from PR curves will be stored in tidy data format (eventually pandas dataframe)\n",
    "compiled_SCM_PR_data = []\n",
    "\n",
    "# iterate over each model type\n",
    "# this is not included in itertools product because the PR curves figure needs to be generated for each model type with plt.show()\n",
    "for model_type in model_types:\n",
    "    # create a figure that has 6x5 subplots\n",
    "    fig, axs = plt.subplots(6, 5)\n",
    "    fig.set_size_inches(15, 18)\n",
    "\n",
    "    # iterate through each combination of feature_types, evaluation_types, phenotypic_classes\n",
    "    for feature_type, evaluation_type, phenotypic_class in itertools.product(\n",
    "        feature_types, evaluation_types, phenotypic_classes\n",
    "    ):\n",
    "        # load single class model for this combination of model type, feature type, and phenotypic class\n",
    "        single_class_model_path = pathlib.Path(\n",
    "            f\"{single_class_models_dir}/{phenotypic_class}_models/{model_type}__{feature_type}.joblib\"\n",
    "        )\n",
    "        single_class_model = load(single_class_model_path)\n",
    "\n",
    "        # load single cell data that will be used for evaluation\n",
    "        single_cell_data = get_dataset(\n",
    "            features_dataframe, data_split_indexes, evaluation_type\n",
    "        )\n",
    "\n",
    "        # index of phenotypic_class gives us an idea of where it should be plotted\n",
    "        phenotypic_class_index = phenotypic_classes.tolist().index(phenotypic_class)\n",
    "\n",
    "        # plot PR curves for single class models of this model type\n",
    "        # this function also returns the PR curve data for this model type\n",
    "        PR_data = class_PR_curves_SCM(\n",
    "            single_cell_data,\n",
    "            single_class_model,\n",
    "            fig,\n",
    "            axs,\n",
    "            phenotypic_class_index,\n",
    "            data_split_colors,\n",
    "            model_type,\n",
    "            feature_type,\n",
    "            evaluation_type,\n",
    "            phenotypic_class,\n",
    "        )\n",
    "        compiled_SCM_PR_data.append(PR_data)\n",
    "\n",
    "    # add title to figure with all subplots\n",
    "    fig.suptitle(f\"PR curves for {model_type} models\")\n",
    "    plt.show()"
   ]
  },
  {
   "cell_type": "markdown",
   "metadata": {},
   "source": [
    "### Save PR curves from each evaluation (multiclass)\n"
   ]
  },
  {
   "cell_type": "code",
   "execution_count": null,
   "metadata": {},
   "outputs": [],
   "source": [
    "# compile tidy PR data\n",
    "# some thresholds are None because last PR value doesnt correspond to cell dataset (these values are always P=1, R=0), remove these rows from PR data\n",
    "compiled_SCM_PR_data = (\n",
    "    pd.concat(compiled_SCM_PR_data, axis=0).dropna().reset_index(drop=True)\n",
    ")\n",
    "\n",
    "# specify results directory\n",
    "PR_curves_dir = pathlib.Path(\"evaluations/precision_recall_curves/\")\n",
    "PR_curves_dir.mkdir(parents=True, exist_ok=True)\n",
    "\n",
    "# define save path\n",
    "compiled_PR_data_save_path = pathlib.Path(f\"{PR_curves_dir}/compiled_SCM_PR_curves.tsv\")\n",
    "\n",
    "# save data as tsv\n",
    "compiled_SCM_PR_data.to_csv(compiled_PR_data_save_path, sep=\"\\t\")\n",
    "\n",
    "# preview tidy data\n",
    "compiled_SCM_PR_data"
   ]
  }
 ],
 "metadata": {
  "kernelspec": {
   "display_name": "Python 3.8.13 ('phenotypic_profiling')",
   "language": "python",
   "name": "python3"
  },
  "language_info": {
   "codemirror_mode": {
    "name": "ipython",
    "version": 3
   },
   "file_extension": ".py",
   "mimetype": "text/x-python",
   "name": "python",
   "nbconvert_exporter": "python",
   "pygments_lexer": "ipython3",
   "version": "3.8.13"
  },
  "orig_nbformat": 4,
  "vscode": {
   "interpreter": {
    "hash": "f9df586d1764dbc68785000a153dad1832127ac564b5e2e4c94e83fc43160b30"
   }
  }
 },
 "nbformat": 4,
 "nbformat_minor": 2
}
