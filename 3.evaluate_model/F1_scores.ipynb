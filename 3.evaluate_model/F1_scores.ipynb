{
 "cells": [
  {
   "cell_type": "markdown",
   "metadata": {},
   "source": [
    "### Import Libraries"
   ]
  },
  {
   "cell_type": "code",
   "execution_count": null,
   "metadata": {},
   "outputs": [],
   "source": [
    "import pandas as pd\n",
    "import pathlib\n",
    "from joblib import load\n",
    "\n",
    "import sys\n",
    "sys.path.append(\"../utils\")\n",
    "from split_utils import get_features_data\n",
    "from train_utils import get_dataset\n",
    "from evaluate_utils import model_score"
   ]
  },
  {
   "cell_type": "markdown",
   "metadata": {},
   "source": [
    "### Load Necessary Data"
   ]
  },
  {
   "cell_type": "code",
   "execution_count": null,
   "metadata": {},
   "outputs": [],
   "source": [
    "# specify results directory\n",
    "results_dir = pathlib.Path(\"evaluations/\")\n",
    "f1_scores_dir = pathlib.Path(f\"{results_dir}/F1_scores/\")\n",
    "f1_scores_dir.mkdir(parents=True, exist_ok=True)\n",
    "\n",
    "# load features data from indexes and features dataframe\n",
    "data_split_path = pathlib.Path(\"../1.split_data/indexes/data_split_indexes.tsv\")\n",
    "data_split_indexes = pd.read_csv(data_split_path, sep=\"\\t\", index_col=0)\n",
    "features_dataframe_path = pathlib.Path(\"../0.download_data/data/training_data.csv.gz\")\n",
    "features_dataframe = get_features_data(features_dataframe_path)"
   ]
  },
  {
   "cell_type": "markdown",
   "metadata": {},
   "source": [
    "### Evaluate Each Model on Each Dataset"
   ]
  },
  {
   "cell_type": "code",
   "execution_count": null,
   "metadata": {},
   "outputs": [],
   "source": [
    "# directory to load the models from\n",
    "models_dir = pathlib.Path(\"../2.train_model/models/\")\n",
    "\n",
    "# iterate through models\n",
    "for model_path in models_dir.iterdir():\n",
    "    model = load(model_path)\n",
    "    model_name = model_path.name.replace(\"log_reg_\",\"\").replace(\".joblib\",\"\")\n",
    "    \n",
    "    # iterate through label datasets\n",
    "    for label in data_split_indexes[\"label\"].unique():\n",
    "        print(f\"Evaluating {model_name} on dataset {label}\")\n",
    "        # load dataset (train, test, etc)\n",
    "        data = get_dataset(features_dataframe, data_split_indexes, label)\n",
    "        # path to save scores to\n",
    "        score_save_path = pathlib.Path(f\"{f1_scores_dir}/{model_name}_{label}.tsv\")\n",
    "        \n",
    "        score = model_score(model, data)\n",
    "        score = score.T.reset_index()\n",
    "        score.columns = [\"Phenotypic_Class\", \"F1_Score\"]\n",
    "        score.to_csv(score_save_path, sep=\"\\t\")"
   ]
  }
 ],
 "metadata": {
  "kernelspec": {
   "display_name": "Python 3.10.4 64-bit",
   "language": "python",
   "name": "python3"
  },
  "language_info": {
   "name": "python",
   "version": "3.10.4"
  },
  "orig_nbformat": 4,
  "vscode": {
   "interpreter": {
    "hash": "916dbcbb3f70747c44a77c7bcd40155683ae19c65e1c03b4aa3499c5328201f1"
   }
  }
 },
 "nbformat": 4,
 "nbformat_minor": 2
}
