{
 "cells": [
  {
   "cell_type": "markdown",
   "metadata": {},
   "source": [
    "### Import Libraries"
   ]
  },
  {
   "cell_type": "code",
   "execution_count": 1,
   "metadata": {},
   "outputs": [],
   "source": [
    "import pandas as pd\n",
    "import numpy as np\n",
    "import pathlib\n",
    "\n",
    "from sklearn.metrics import f1_score\n",
    "from joblib import load\n",
    "\n",
    "import sys\n",
    "sys.path.append(\"../utils\")\n",
    "from split_utils import get_features_data\n",
    "from train_utils import get_dataset, get_X_y_data\n",
    "from evaluate_utils import evaluate_model_cm, evaluate_model_score"
   ]
  },
  {
   "cell_type": "markdown",
   "metadata": {},
   "source": [
    "### Load necessary data"
   ]
  },
  {
   "cell_type": "code",
   "execution_count": 2,
   "metadata": {},
   "outputs": [],
   "source": [
    "# load features data from indexes and features dataframe\n",
    "data_split_path = pathlib.Path(\"../1.split_data/indexes/data_split_indexes.tsv\")\n",
    "data_split_indexes = pd.read_csv(data_split_path, sep=\"\\t\", index_col=0)\n",
    "features_dataframe_path = pathlib.Path(\"../0.download_data/data/training_data.csv.gz\")\n",
    "features_dataframe = get_features_data(features_dataframe_path)"
   ]
  },
  {
   "cell_type": "markdown",
   "metadata": {},
   "source": [
    "### Get Each Model Predictions on Each Dataset"
   ]
  },
  {
   "cell_type": "code",
   "execution_count": 3,
   "metadata": {},
   "outputs": [
    {
     "name": "stdout",
     "output_type": "stream",
     "text": [
      "Getting predictions for model on dataset test\n",
      "Getting predictions for model on dataset train\n",
      "Getting predictions for shuffled_baseline_model on dataset test\n",
      "Getting predictions for shuffled_baseline_model on dataset train\n"
     ]
    }
   ],
   "source": [
    "# directory to load the models from\n",
    "models_dir = pathlib.Path(\"../2.train_model/models/\")\n",
    "\n",
    "# use a list to keep track of scores in tidy long format for each model and dataset combination\n",
    "compiled_predictions = []\n",
    "\n",
    "# iterate through each model (final model, shuffled baseline model, etc)\n",
    "for model_path in models_dir.iterdir():\n",
    "    model = load(model_path)\n",
    "    model_name = model_path.name.replace(\"log_reg_\",\"\").replace(\".joblib\",\"\")\n",
    "    \n",
    "    # iterate through label datasets (labels correspond to train, test, etc)\n",
    "    # with nested for loops, we test each model on each dataset(corresponding to a label)\n",
    "    for label in data_split_indexes[\"label\"].unique():\n",
    "        print(f\"Getting predictions for {model_name} on dataset {label}\")\n",
    "        \n",
    "        # get indexes of each cell being predicted for the dataset the cell is from\n",
    "        dataset_indexes = data_split_indexes.loc[data_split_indexes[\"label\"] == label][\"index\"]\n",
    "        \n",
    "        # load dataset (train, test, etc)\n",
    "        data = get_dataset(features_dataframe, data_split_indexes, label)\n",
    "        \n",
    "        # get features and labels dataframes\n",
    "        X, y = get_X_y_data(data)\n",
    "\n",
    "        # get predictions from model\n",
    "        y_pred = model.predict(X)\n",
    "        \n",
    "        # create dataframe with dataset index of cell being predicted, predicted phenotypic class, true phenotypic class, and which dataset/model is involved in prediction\n",
    "        predictions_df = pd.DataFrame(\n",
    "        {'Dataset_Index': dataset_indexes,\n",
    "        'Phenotypic_Class_Predicted': y,\n",
    "        'Phenotypic_Class_True': y_pred,\n",
    "        'data_split': label,\n",
    "        \"shuffled\": \"shuffled\" in model_name\n",
    "        })\n",
    "        \n",
    "        compiled_predictions.append(predictions_df)"
   ]
  },
  {
   "cell_type": "markdown",
   "metadata": {},
   "source": [
    "### Compile and Save Predictions"
   ]
  },
  {
   "cell_type": "code",
   "execution_count": 4,
   "metadata": {},
   "outputs": [
    {
     "data": {
      "text/html": [
       "<div>\n",
       "<style scoped>\n",
       "    .dataframe tbody tr th:only-of-type {\n",
       "        vertical-align: middle;\n",
       "    }\n",
       "\n",
       "    .dataframe tbody tr th {\n",
       "        vertical-align: top;\n",
       "    }\n",
       "\n",
       "    .dataframe thead th {\n",
       "        text-align: right;\n",
       "    }\n",
       "</style>\n",
       "<table border=\"1\" class=\"dataframe\">\n",
       "  <thead>\n",
       "    <tr style=\"text-align: right;\">\n",
       "      <th></th>\n",
       "      <th>Dataset_Index</th>\n",
       "      <th>Phenotypic_Class_Predicted</th>\n",
       "      <th>Phenotypic_Class_True</th>\n",
       "      <th>data_split</th>\n",
       "      <th>shuffled</th>\n",
       "    </tr>\n",
       "  </thead>\n",
       "  <tbody>\n",
       "    <tr>\n",
       "      <th>0</th>\n",
       "      <td>1785</td>\n",
       "      <td>Polylobed</td>\n",
       "      <td>Polylobed</td>\n",
       "      <td>test</td>\n",
       "      <td>False</td>\n",
       "    </tr>\n",
       "    <tr>\n",
       "      <th>1</th>\n",
       "      <td>4524</td>\n",
       "      <td>Polylobed</td>\n",
       "      <td>Polylobed</td>\n",
       "      <td>test</td>\n",
       "      <td>False</td>\n",
       "    </tr>\n",
       "    <tr>\n",
       "      <th>2</th>\n",
       "      <td>1045</td>\n",
       "      <td>OutOfFocus</td>\n",
       "      <td>OutOfFocus</td>\n",
       "      <td>test</td>\n",
       "      <td>False</td>\n",
       "    </tr>\n",
       "    <tr>\n",
       "      <th>3</th>\n",
       "      <td>1046</td>\n",
       "      <td>Polylobed</td>\n",
       "      <td>Polylobed</td>\n",
       "      <td>test</td>\n",
       "      <td>False</td>\n",
       "    </tr>\n",
       "    <tr>\n",
       "      <th>4</th>\n",
       "      <td>3474</td>\n",
       "      <td>Artefact</td>\n",
       "      <td>Binuclear</td>\n",
       "      <td>test</td>\n",
       "      <td>False</td>\n",
       "    </tr>\n",
       "    <tr>\n",
       "      <th>...</th>\n",
       "      <td>...</td>\n",
       "      <td>...</td>\n",
       "      <td>...</td>\n",
       "      <td>...</td>\n",
       "      <td>...</td>\n",
       "    </tr>\n",
       "    <tr>\n",
       "      <th>10915</th>\n",
       "      <td>5518</td>\n",
       "      <td>Apoptosis</td>\n",
       "      <td>Polylobed</td>\n",
       "      <td>train</td>\n",
       "      <td>True</td>\n",
       "    </tr>\n",
       "    <tr>\n",
       "      <th>10916</th>\n",
       "      <td>5519</td>\n",
       "      <td>Prometaphase</td>\n",
       "      <td>Polylobed</td>\n",
       "      <td>train</td>\n",
       "      <td>True</td>\n",
       "    </tr>\n",
       "    <tr>\n",
       "      <th>10917</th>\n",
       "      <td>5520</td>\n",
       "      <td>Binuclear</td>\n",
       "      <td>Polylobed</td>\n",
       "      <td>train</td>\n",
       "      <td>True</td>\n",
       "    </tr>\n",
       "    <tr>\n",
       "      <th>10918</th>\n",
       "      <td>5521</td>\n",
       "      <td>Polylobed</td>\n",
       "      <td>Grape</td>\n",
       "      <td>train</td>\n",
       "      <td>True</td>\n",
       "    </tr>\n",
       "    <tr>\n",
       "      <th>10919</th>\n",
       "      <td>5522</td>\n",
       "      <td>Binuclear</td>\n",
       "      <td>Polylobed</td>\n",
       "      <td>train</td>\n",
       "      <td>True</td>\n",
       "    </tr>\n",
       "  </tbody>\n",
       "</table>\n",
       "<p>10920 rows × 5 columns</p>\n",
       "</div>"
      ],
      "text/plain": [
       "       Dataset_Index Phenotypic_Class_Predicted Phenotypic_Class_True  \\\n",
       "0               1785                  Polylobed             Polylobed   \n",
       "1               4524                  Polylobed             Polylobed   \n",
       "2               1045                 OutOfFocus            OutOfFocus   \n",
       "3               1046                  Polylobed             Polylobed   \n",
       "4               3474                   Artefact             Binuclear   \n",
       "...              ...                        ...                   ...   \n",
       "10915           5518                  Apoptosis             Polylobed   \n",
       "10916           5519               Prometaphase             Polylobed   \n",
       "10917           5520                  Binuclear             Polylobed   \n",
       "10918           5521                  Polylobed                 Grape   \n",
       "10919           5522                  Binuclear             Polylobed   \n",
       "\n",
       "      data_split  shuffled  \n",
       "0           test     False  \n",
       "1           test     False  \n",
       "2           test     False  \n",
       "3           test     False  \n",
       "4           test     False  \n",
       "...          ...       ...  \n",
       "10915      train      True  \n",
       "10916      train      True  \n",
       "10917      train      True  \n",
       "10918      train      True  \n",
       "10919      train      True  \n",
       "\n",
       "[10920 rows x 5 columns]"
      ]
     },
     "execution_count": 4,
     "metadata": {},
     "output_type": "execute_result"
    }
   ],
   "source": [
    "# compile predictions and reset index of dataframe\n",
    "compiled_predictions = pd.concat(compiled_predictions).reset_index(drop=True)\n",
    "\n",
    "# specify save path\n",
    "compiled_predictions_save_path = pathlib.Path(\"predictions/compiled_predictions.tsv\")\n",
    "compiled_predictions_save_path.parent.mkdir(parents=True, exist_ok=True)\n",
    "\n",
    "# save data as tsv\n",
    "compiled_predictions.to_csv(compiled_predictions_save_path, sep=\"\\t\")\n",
    "\n",
    "# preview compiled predictions\n",
    "compiled_predictions"
   ]
  }
 ],
 "metadata": {
  "kernelspec": {
   "display_name": "Python 3.8.13 ('phenotypic_profiling')",
   "language": "python",
   "name": "python3"
  },
  "language_info": {
   "codemirror_mode": {
    "name": "ipython",
    "version": 3
   },
   "file_extension": ".py",
   "mimetype": "text/x-python",
   "name": "python",
   "nbconvert_exporter": "python",
   "pygments_lexer": "ipython3",
   "version": "3.8.13"
  },
  "orig_nbformat": 4,
  "vscode": {
   "interpreter": {
    "hash": "f9df586d1764dbc68785000a153dad1832127ac564b5e2e4c94e83fc43160b30"
   }
  }
 },
 "nbformat": 4,
 "nbformat_minor": 2
}
